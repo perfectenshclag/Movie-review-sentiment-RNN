{
 "cells": [
  {
   "cell_type": "code",
   "execution_count": 71,
   "metadata": {},
   "outputs": [],
   "source": [
    "import numpy as np \n",
    "import tensorflow as tf\n",
    "from tensorflow.keras.datasets import imdb\n",
    "from tensorflow.keras.preprocessing import sequence\n",
    "from tensorflow.keras.models import load_model\n",
    "\n"
   ]
  },
  {
   "cell_type": "code",
   "execution_count": 72,
   "metadata": {},
   "outputs": [],
   "source": [
    "word_ind=imdb.get_word_index()\n",
    "reverse_word_ind={value: key for key, value in word_ind.items()}"
   ]
  },
  {
   "cell_type": "code",
   "execution_count": 73,
   "metadata": {},
   "outputs": [
    {
     "name": "stderr",
     "output_type": "stream",
     "text": [
      "WARNING:absl:Compiled the loaded model, but the compiled metrics have yet to be built. `model.compile_metrics` will be empty until you train or evaluate the model.\n"
     ]
    },
    {
     "data": {
      "text/html": [
       "<pre style=\"white-space:pre;overflow-x:auto;line-height:normal;font-family:Menlo,'DejaVu Sans Mono',consolas,'Courier New',monospace\"><span style=\"font-weight: bold\">Model: \"sequential_2\"</span>\n",
       "</pre>\n"
      ],
      "text/plain": [
       "\u001b[1mModel: \"sequential_2\"\u001b[0m\n"
      ]
     },
     "metadata": {},
     "output_type": "display_data"
    },
    {
     "data": {
      "text/html": [
       "<pre style=\"white-space:pre;overflow-x:auto;line-height:normal;font-family:Menlo,'DejaVu Sans Mono',consolas,'Courier New',monospace\">┏━━━━━━━━━━━━━━━━━━━━━━━━━━━━━━━━━┳━━━━━━━━━━━━━━━━━━━━━━━━┳━━━━━━━━━━━━━━━┓\n",
       "┃<span style=\"font-weight: bold\"> Layer (type)                    </span>┃<span style=\"font-weight: bold\"> Output Shape           </span>┃<span style=\"font-weight: bold\">       Param # </span>┃\n",
       "┡━━━━━━━━━━━━━━━━━━━━━━━━━━━━━━━━━╇━━━━━━━━━━━━━━━━━━━━━━━━╇━━━━━━━━━━━━━━━┩\n",
       "│ embedding_2 (<span style=\"color: #0087ff; text-decoration-color: #0087ff\">Embedding</span>)         │ (<span style=\"color: #00d7ff; text-decoration-color: #00d7ff\">None</span>, <span style=\"color: #00af00; text-decoration-color: #00af00\">500</span>, <span style=\"color: #00af00; text-decoration-color: #00af00\">128</span>)       │    <span style=\"color: #00af00; text-decoration-color: #00af00\">12,800,000</span> │\n",
       "├─────────────────────────────────┼────────────────────────┼───────────────┤\n",
       "│ simple_rnn_2 (<span style=\"color: #0087ff; text-decoration-color: #0087ff\">SimpleRNN</span>)        │ (<span style=\"color: #00d7ff; text-decoration-color: #00d7ff\">None</span>, <span style=\"color: #00af00; text-decoration-color: #00af00\">128</span>)            │        <span style=\"color: #00af00; text-decoration-color: #00af00\">32,896</span> │\n",
       "├─────────────────────────────────┼────────────────────────┼───────────────┤\n",
       "│ dense_2 (<span style=\"color: #0087ff; text-decoration-color: #0087ff\">Dense</span>)                 │ (<span style=\"color: #00d7ff; text-decoration-color: #00d7ff\">None</span>, <span style=\"color: #00af00; text-decoration-color: #00af00\">1</span>)              │           <span style=\"color: #00af00; text-decoration-color: #00af00\">129</span> │\n",
       "└─────────────────────────────────┴────────────────────────┴───────────────┘\n",
       "</pre>\n"
      ],
      "text/plain": [
       "┏━━━━━━━━━━━━━━━━━━━━━━━━━━━━━━━━━┳━━━━━━━━━━━━━━━━━━━━━━━━┳━━━━━━━━━━━━━━━┓\n",
       "┃\u001b[1m \u001b[0m\u001b[1mLayer (type)                   \u001b[0m\u001b[1m \u001b[0m┃\u001b[1m \u001b[0m\u001b[1mOutput Shape          \u001b[0m\u001b[1m \u001b[0m┃\u001b[1m \u001b[0m\u001b[1m      Param #\u001b[0m\u001b[1m \u001b[0m┃\n",
       "┡━━━━━━━━━━━━━━━━━━━━━━━━━━━━━━━━━╇━━━━━━━━━━━━━━━━━━━━━━━━╇━━━━━━━━━━━━━━━┩\n",
       "│ embedding_2 (\u001b[38;5;33mEmbedding\u001b[0m)         │ (\u001b[38;5;45mNone\u001b[0m, \u001b[38;5;34m500\u001b[0m, \u001b[38;5;34m128\u001b[0m)       │    \u001b[38;5;34m12,800,000\u001b[0m │\n",
       "├─────────────────────────────────┼────────────────────────┼───────────────┤\n",
       "│ simple_rnn_2 (\u001b[38;5;33mSimpleRNN\u001b[0m)        │ (\u001b[38;5;45mNone\u001b[0m, \u001b[38;5;34m128\u001b[0m)            │        \u001b[38;5;34m32,896\u001b[0m │\n",
       "├─────────────────────────────────┼────────────────────────┼───────────────┤\n",
       "│ dense_2 (\u001b[38;5;33mDense\u001b[0m)                 │ (\u001b[38;5;45mNone\u001b[0m, \u001b[38;5;34m1\u001b[0m)              │           \u001b[38;5;34m129\u001b[0m │\n",
       "└─────────────────────────────────┴────────────────────────┴───────────────┘\n"
      ]
     },
     "metadata": {},
     "output_type": "display_data"
    },
    {
     "data": {
      "text/html": [
       "<pre style=\"white-space:pre;overflow-x:auto;line-height:normal;font-family:Menlo,'DejaVu Sans Mono',consolas,'Courier New',monospace\"><span style=\"font-weight: bold\"> Total params: </span><span style=\"color: #00af00; text-decoration-color: #00af00\">12,833,027</span> (48.95 MB)\n",
       "</pre>\n"
      ],
      "text/plain": [
       "\u001b[1m Total params: \u001b[0m\u001b[38;5;34m12,833,027\u001b[0m (48.95 MB)\n"
      ]
     },
     "metadata": {},
     "output_type": "display_data"
    },
    {
     "data": {
      "text/html": [
       "<pre style=\"white-space:pre;overflow-x:auto;line-height:normal;font-family:Menlo,'DejaVu Sans Mono',consolas,'Courier New',monospace\"><span style=\"font-weight: bold\"> Trainable params: </span><span style=\"color: #00af00; text-decoration-color: #00af00\">12,833,025</span> (48.95 MB)\n",
       "</pre>\n"
      ],
      "text/plain": [
       "\u001b[1m Trainable params: \u001b[0m\u001b[38;5;34m12,833,025\u001b[0m (48.95 MB)\n"
      ]
     },
     "metadata": {},
     "output_type": "display_data"
    },
    {
     "data": {
      "text/html": [
       "<pre style=\"white-space:pre;overflow-x:auto;line-height:normal;font-family:Menlo,'DejaVu Sans Mono',consolas,'Courier New',monospace\"><span style=\"font-weight: bold\"> Non-trainable params: </span><span style=\"color: #00af00; text-decoration-color: #00af00\">0</span> (0.00 B)\n",
       "</pre>\n"
      ],
      "text/plain": [
       "\u001b[1m Non-trainable params: \u001b[0m\u001b[38;5;34m0\u001b[0m (0.00 B)\n"
      ]
     },
     "metadata": {},
     "output_type": "display_data"
    },
    {
     "data": {
      "text/html": [
       "<pre style=\"white-space:pre;overflow-x:auto;line-height:normal;font-family:Menlo,'DejaVu Sans Mono',consolas,'Courier New',monospace\"><span style=\"font-weight: bold\"> Optimizer params: </span><span style=\"color: #00af00; text-decoration-color: #00af00\">2</span> (12.00 B)\n",
       "</pre>\n"
      ],
      "text/plain": [
       "\u001b[1m Optimizer params: \u001b[0m\u001b[38;5;34m2\u001b[0m (12.00 B)\n"
      ]
     },
     "metadata": {},
     "output_type": "display_data"
    }
   ],
   "source": [
    "model= load_model('simple_rnn_imdb.h5')\n",
    "model.summary()"
   ]
  },
  {
   "cell_type": "code",
   "execution_count": 74,
   "metadata": {},
   "outputs": [
    {
     "data": {
      "text/plain": [
       "[array([[-0.06793461, -0.0099465 ,  0.03418505, ...,  0.03737247,\n",
       "          0.01482897,  0.02533965],\n",
       "        [-0.04792798,  0.04126065,  0.03213967, ..., -0.0173795 ,\n",
       "          0.03443195, -0.01054348],\n",
       "        [ 0.01608572, -0.03113827,  0.02106892, ...,  0.04807813,\n",
       "          0.04897661,  0.01087855],\n",
       "        ...,\n",
       "        [-0.04361051,  0.00956834, -0.00573255, ..., -0.0195902 ,\n",
       "         -0.0361806 ,  0.04418604],\n",
       "        [-0.04889823,  0.01050718, -0.02803364, ...,  0.00934172,\n",
       "          0.03071263, -0.04442489],\n",
       "        [ 0.00620081, -0.00304936, -0.01708468, ..., -0.01406846,\n",
       "          0.00999857, -0.01408144]], dtype=float32),\n",
       " array([[ 0.03082855, -0.11153948, -0.0626151 , ...,  0.11046057,\n",
       "          0.10772853,  0.10348652],\n",
       "        [ 0.11376586,  0.17540775,  0.02136453, ..., -0.07689453,\n",
       "          0.01449585,  0.12070277],\n",
       "        [-0.15940101,  0.05177893, -0.01157573, ..., -0.06167826,\n",
       "         -0.18993375, -0.11514772],\n",
       "        ...,\n",
       "        [ 0.15348083,  0.08986249,  0.12367564, ..., -0.09158865,\n",
       "         -0.05883067, -0.07486675],\n",
       "        [-0.08059558,  0.10565794, -0.11654844, ..., -0.07770541,\n",
       "         -0.10750747, -0.00773897],\n",
       "        [ 0.01272344, -0.11831269, -0.14555666, ...,  0.07423962,\n",
       "         -0.09768138,  0.03360669]], dtype=float32),\n",
       " array([[ 0.15309383,  0.11478253, -0.03045361, ..., -0.11767944,\n",
       "          0.06317465,  0.04378103],\n",
       "        [ 0.04846128,  0.04076888,  0.01005855, ..., -0.04208952,\n",
       "          0.03730109,  0.1871502 ],\n",
       "        [ 0.02270016, -0.02174026,  0.17298132, ...,  0.00351862,\n",
       "         -0.08577553,  0.02624702],\n",
       "        ...,\n",
       "        [ 0.15015946,  0.03991547,  0.08061088, ..., -0.00955794,\n",
       "         -0.01095542, -0.0554662 ],\n",
       "        [ 0.04225462,  0.00525818,  0.08733314, ..., -0.16305953,\n",
       "          0.03068079,  0.08647395],\n",
       "        [ 0.02474742, -0.02784946, -0.04841131, ..., -0.00870264,\n",
       "         -0.05848114, -0.0825673 ]], dtype=float32),\n",
       " array([ 8.00742302e-03,  1.63537406e-04,  1.38593912e-02, -1.76404126e-03,\n",
       "         1.21391304e-02,  1.01558631e-04, -7.47010624e-03,  5.70317125e-03,\n",
       "        -8.49749544e-04,  5.26505057e-03, -9.63315659e-04, -1.61552266e-03,\n",
       "        -4.88130236e-03,  1.89741782e-03,  6.18260959e-03,  5.08259609e-03,\n",
       "        -6.52950443e-03, -1.20128272e-02,  1.92267094e-02,  6.39835419e-03,\n",
       "        -3.36558698e-03, -1.07357523e-03,  5.95019525e-03, -4.41144546e-03,\n",
       "        -4.15908126e-03, -7.34200049e-03, -1.23690988e-03,  2.13792920e-03,\n",
       "         3.12918099e-03, -9.46429849e-04, -7.56781828e-03,  7.22976925e-04,\n",
       "        -5.56063559e-03,  1.20667601e-02, -3.47628817e-03, -2.17213714e-03,\n",
       "         1.13232937e-02, -1.42353342e-03,  1.21132061e-02, -9.74773522e-03,\n",
       "        -1.79851917e-03,  1.22958925e-02, -2.33284640e-03, -9.21567343e-03,\n",
       "         1.06858704e-02,  1.16545195e-02,  3.47036752e-03,  1.31923156e-02,\n",
       "        -7.07852002e-03,  5.21885790e-03,  2.29580817e-03, -2.68714712e-03,\n",
       "        -6.91675674e-03,  1.82067994e-02,  2.56047188e-03, -1.14459069e-02,\n",
       "        -6.26160705e-04, -9.71055310e-03,  9.29361396e-03,  1.39390333e-02,\n",
       "        -2.24249577e-03,  7.58214388e-03,  3.40235676e-03,  4.53665294e-03,\n",
       "        -7.21804146e-03,  1.47881859e-04, -2.32373667e-03,  5.07542863e-03,\n",
       "         1.00220237e-02, -4.49903589e-03, -7.18065351e-03,  5.50763682e-03,\n",
       "         1.85450551e-03,  1.43137760e-02, -2.53749709e-03,  1.16434842e-02,\n",
       "         5.02754003e-03,  4.31299815e-03,  7.18257204e-03, -3.64027149e-03,\n",
       "        -1.16144307e-02, -5.90394204e-03,  3.59282899e-03,  2.03881398e-04,\n",
       "         4.91778646e-03,  3.00155790e-03,  6.05971785e-03,  9.22046881e-03,\n",
       "         1.31972507e-02, -1.35674272e-02, -7.51623651e-03, -2.10432918e-03,\n",
       "         6.66991249e-03, -4.24838113e-03, -6.66115593e-05,  6.46532862e-04,\n",
       "        -1.65399741e-02, -2.63970438e-03,  5.38379513e-03,  6.96509983e-03,\n",
       "         1.21088792e-02,  5.36190858e-03, -7.19059119e-03, -8.74693226e-03,\n",
       "        -1.02369953e-02, -1.79886948e-02,  4.73036460e-04,  1.95993949e-03,\n",
       "         4.68789553e-03,  5.72872534e-03,  9.87873063e-04, -1.28950505e-02,\n",
       "         8.85840505e-03,  1.56039735e-02, -7.82903004e-03,  9.58327390e-03,\n",
       "        -4.19876119e-03, -3.12128477e-03,  2.68582487e-03,  1.91423611e-03,\n",
       "         5.97189972e-03,  5.56013361e-03,  9.04570916e-04,  2.53890897e-03,\n",
       "         1.01681601e-03, -8.30568839e-03,  1.92563236e-03, -1.17553826e-02],\n",
       "       dtype=float32),\n",
       " array([[ 0.04575207],\n",
       "        [-0.07730182],\n",
       "        [ 0.16511938],\n",
       "        [-0.06878655],\n",
       "        [-0.12725332],\n",
       "        [-0.06431543],\n",
       "        [ 0.1689456 ],\n",
       "        [ 0.08935295],\n",
       "        [-0.15395309],\n",
       "        [ 0.0939074 ],\n",
       "        [-0.07334039],\n",
       "        [-0.18219429],\n",
       "        [-0.08981293],\n",
       "        [ 0.17505199],\n",
       "        [ 0.17217834],\n",
       "        [ 0.18243144],\n",
       "        [ 0.06363827],\n",
       "        [ 0.06062349],\n",
       "        [ 0.04976827],\n",
       "        [-0.24916321],\n",
       "        [ 0.16019477],\n",
       "        [-0.19322962],\n",
       "        [-0.01185403],\n",
       "        [-0.21578775],\n",
       "        [ 0.04775297],\n",
       "        [-0.15217009],\n",
       "        [-0.15292615],\n",
       "        [-0.02462774],\n",
       "        [-0.02579366],\n",
       "        [-0.01199354],\n",
       "        [-0.01477307],\n",
       "        [-0.14717487],\n",
       "        [ 0.1429245 ],\n",
       "        [ 0.01951289],\n",
       "        [ 0.1064108 ],\n",
       "        [-0.13604358],\n",
       "        [ 0.02114779],\n",
       "        [-0.09822647],\n",
       "        [-0.08445486],\n",
       "        [ 0.03986653],\n",
       "        [-0.09240258],\n",
       "        [-0.15976247],\n",
       "        [-0.00504198],\n",
       "        [-0.00574505],\n",
       "        [-0.08706219],\n",
       "        [-0.17919664],\n",
       "        [-0.10883727],\n",
       "        [-0.09450554],\n",
       "        [ 0.01591125],\n",
       "        [ 0.00174296],\n",
       "        [-0.17304818],\n",
       "        [-0.03965567],\n",
       "        [ 0.0027951 ],\n",
       "        [-0.14431265],\n",
       "        [ 0.00310662],\n",
       "        [-0.1416813 ],\n",
       "        [ 0.01623396],\n",
       "        [-0.1217676 ],\n",
       "        [-0.0984736 ],\n",
       "        [-0.11591348],\n",
       "        [ 0.03628669],\n",
       "        [-0.13593267],\n",
       "        [ 0.15861353],\n",
       "        [-0.02344735],\n",
       "        [ 0.03263161],\n",
       "        [-0.05365275],\n",
       "        [ 0.03955022],\n",
       "        [-0.16104025],\n",
       "        [-0.01905217],\n",
       "        [ 0.18340209],\n",
       "        [ 0.02040751],\n",
       "        [ 0.03823412],\n",
       "        [-0.17403351],\n",
       "        [-0.13727975],\n",
       "        [-0.0595401 ],\n",
       "        [ 0.00826228],\n",
       "        [ 0.08973025],\n",
       "        [ 0.20028612],\n",
       "        [-0.0415791 ],\n",
       "        [-0.12688708],\n",
       "        [-0.06482884],\n",
       "        [-0.0974369 ],\n",
       "        [ 0.21740341],\n",
       "        [-0.04357078],\n",
       "        [ 0.09281366],\n",
       "        [ 0.12800053],\n",
       "        [ 0.12068668],\n",
       "        [ 0.18158245],\n",
       "        [-0.02730372],\n",
       "        [ 0.07670107],\n",
       "        [-0.0460484 ],\n",
       "        [-0.01457197],\n",
       "        [ 0.03493734],\n",
       "        [-0.10739996],\n",
       "        [-0.23396602],\n",
       "        [-0.1266719 ],\n",
       "        [ 0.05814086],\n",
       "        [ 0.08525708],\n",
       "        [ 0.1480598 ],\n",
       "        [ 0.04512166],\n",
       "        [-0.151337  ],\n",
       "        [-0.01781959],\n",
       "        [-0.17908318],\n",
       "        [-0.17617263],\n",
       "        [ 0.19359905],\n",
       "        [ 0.10789419],\n",
       "        [-0.21851556],\n",
       "        [ 0.18925305],\n",
       "        [ 0.07561168],\n",
       "        [-0.0458287 ],\n",
       "        [-0.09521897],\n",
       "        [ 0.20384675],\n",
       "        [-0.04163947],\n",
       "        [-0.05806665],\n",
       "        [ 0.20094216],\n",
       "        [-0.207571  ],\n",
       "        [ 0.07559001],\n",
       "        [-0.06307906],\n",
       "        [ 0.06435634],\n",
       "        [ 0.15213075],\n",
       "        [ 0.15545629],\n",
       "        [-0.10524611],\n",
       "        [-0.0177509 ],\n",
       "        [-0.06137753],\n",
       "        [ 0.03546792],\n",
       "        [-0.11493745],\n",
       "        [-0.0751819 ],\n",
       "        [-0.17179184]], dtype=float32),\n",
       " array([-0.00222818], dtype=float32)]"
      ]
     },
     "execution_count": 74,
     "metadata": {},
     "output_type": "execute_result"
    }
   ],
   "source": [
    "model.get_weights()"
   ]
  },
  {
   "cell_type": "code",
   "execution_count": 75,
   "metadata": {},
   "outputs": [],
   "source": [
    "def decode_review(encoded_review):\n",
    "    return ' '.join([reverse_word_ind.get(i-3,'?') for i in encoded_review])\n",
    "\n",
    "def preprocess_text(text):\n",
    "    words=text.lower().split()\n",
    "    \n",
    "    encoded_review =[word_ind.get(word,2)+ 3 for word in words]\n",
    "    padded_review=sequence.pad_sequences([encoded_review],maxlen=500)\n",
    "    return padded_review"
   ]
  },
  {
   "cell_type": "code",
   "execution_count": 76,
   "metadata": {},
   "outputs": [],
   "source": [
    "def predict_sentiment(review):\n",
    "    preprocess_input=preprocess_text(review)\n",
    "    pred=model.predict(preprocess_input)\n",
    "    sentiment = 'Positive' if pred[0][0]>0.5 else 'Negative'\n",
    "    return sentiment,pred[0][0]"
   ]
  },
  {
   "cell_type": "code",
   "execution_count": 77,
   "metadata": {},
   "outputs": [],
   "source": [
    "example_review=\"This movie was an absolute disaster from start to finish. The plot was painfully predictable, with no sense of originality or creativity. The pacing dragged on endlessly, making the entire experience feel like a chore to sit through. The visuals, while trying to be impressive, were completely overhyped and lacked any real substance\""
   ]
  },
  {
   "cell_type": "code",
   "execution_count": 78,
   "metadata": {},
   "outputs": [
    {
     "name": "stdout",
     "output_type": "stream",
     "text": [
      "\u001b[1m1/1\u001b[0m \u001b[32m━━━━━━━━━━━━━━━━━━━━\u001b[0m\u001b[37m\u001b[0m \u001b[1m0s\u001b[0m 299ms/step\n"
     ]
    }
   ],
   "source": [
    "sentiment,score=predict_sentiment(example_review)"
   ]
  },
  {
   "cell_type": "code",
   "execution_count": 83,
   "metadata": {},
   "outputs": [
    {
     "name": "stdout",
     "output_type": "stream",
     "text": [
      "Review: This movie was an absolute disaster from start to finish. The plot was painfully predictable, with no sense of originality or creativity. The pacing dragged on endlessly, making the entire experience feel like a chore to sit through. The visuals, while trying to be impressive, were completely overhyped and lacked any real substance\n",
      "sentiment: Negative\n",
      "Review: 0.05615886673331261\n"
     ]
    }
   ],
   "source": [
    "print(f'Review: {example_review}')\n",
    "print(f'sentiment: {sentiment}')\n",
    "print(f'Review: {score}')\n",
    "\n"
   ]
  },
  {
   "cell_type": "code",
   "execution_count": null,
   "metadata": {},
   "outputs": [],
   "source": []
  },
  {
   "cell_type": "code",
   "execution_count": null,
   "metadata": {},
   "outputs": [],
   "source": []
  },
  {
   "cell_type": "code",
   "execution_count": null,
   "metadata": {},
   "outputs": [],
   "source": []
  }
 ],
 "metadata": {
  "kernelspec": {
   "display_name": "Python 3",
   "language": "python",
   "name": "python3"
  },
  "language_info": {
   "codemirror_mode": {
    "name": "ipython",
    "version": 3
   },
   "file_extension": ".py",
   "mimetype": "text/x-python",
   "name": "python",
   "nbconvert_exporter": "python",
   "pygments_lexer": "ipython3",
   "version": "3.11.8"
  }
 },
 "nbformat": 4,
 "nbformat_minor": 2
}
