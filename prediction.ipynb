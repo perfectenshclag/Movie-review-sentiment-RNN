{
 "cells": [
  {
   "cell_type": "code",
   "execution_count": 14,
   "metadata": {},
   "outputs": [],
   "source": [
    "import numpy as np \n",
    "import tensorflow as tf\n",
    "from tensorflow.keras.datasets import imdb\n",
    "from tensorflow.keras.preprocessing import sequence\n",
    "from tensorflow.keras.models import load_model\n",
    "\n"
   ]
  },
  {
   "cell_type": "code",
   "execution_count": 15,
   "metadata": {},
   "outputs": [],
   "source": [
    "word_ind=imdb.get_word_index()\n",
    "reverse_word_ind={value: key for key, value in word_ind.items()}"
   ]
  },
  {
   "cell_type": "code",
   "execution_count": 16,
   "metadata": {},
   "outputs": [
    {
     "name": "stderr",
     "output_type": "stream",
     "text": [
      "WARNING:absl:Compiled the loaded model, but the compiled metrics have yet to be built. `model.compile_metrics` will be empty until you train or evaluate the model.\n"
     ]
    },
    {
     "data": {
      "text/html": [
       "<pre style=\"white-space:pre;overflow-x:auto;line-height:normal;font-family:Menlo,'DejaVu Sans Mono',consolas,'Courier New',monospace\"><span style=\"font-weight: bold\">Model: \"sequential\"</span>\n",
       "</pre>\n"
      ],
      "text/plain": [
       "\u001b[1mModel: \"sequential\"\u001b[0m\n"
      ]
     },
     "metadata": {},
     "output_type": "display_data"
    },
    {
     "data": {
      "text/html": [
       "<pre style=\"white-space:pre;overflow-x:auto;line-height:normal;font-family:Menlo,'DejaVu Sans Mono',consolas,'Courier New',monospace\">┏━━━━━━━━━━━━━━━━━━━━━━━━━━━━━━━━━┳━━━━━━━━━━━━━━━━━━━━━━━━┳━━━━━━━━━━━━━━━┓\n",
       "┃<span style=\"font-weight: bold\"> Layer (type)                    </span>┃<span style=\"font-weight: bold\"> Output Shape           </span>┃<span style=\"font-weight: bold\">       Param # </span>┃\n",
       "┡━━━━━━━━━━━━━━━━━━━━━━━━━━━━━━━━━╇━━━━━━━━━━━━━━━━━━━━━━━━╇━━━━━━━━━━━━━━━┩\n",
       "│ embedding (<span style=\"color: #0087ff; text-decoration-color: #0087ff\">Embedding</span>)           │ (<span style=\"color: #00d7ff; text-decoration-color: #00d7ff\">None</span>, <span style=\"color: #00af00; text-decoration-color: #00af00\">500</span>, <span style=\"color: #00af00; text-decoration-color: #00af00\">128</span>)       │     <span style=\"color: #00af00; text-decoration-color: #00af00\">1,280,000</span> │\n",
       "├─────────────────────────────────┼────────────────────────┼───────────────┤\n",
       "│ simple_rnn (<span style=\"color: #0087ff; text-decoration-color: #0087ff\">SimpleRNN</span>)          │ (<span style=\"color: #00d7ff; text-decoration-color: #00d7ff\">None</span>, <span style=\"color: #00af00; text-decoration-color: #00af00\">128</span>)            │        <span style=\"color: #00af00; text-decoration-color: #00af00\">32,896</span> │\n",
       "├─────────────────────────────────┼────────────────────────┼───────────────┤\n",
       "│ dense (<span style=\"color: #0087ff; text-decoration-color: #0087ff\">Dense</span>)                   │ (<span style=\"color: #00d7ff; text-decoration-color: #00d7ff\">None</span>, <span style=\"color: #00af00; text-decoration-color: #00af00\">1</span>)              │           <span style=\"color: #00af00; text-decoration-color: #00af00\">129</span> │\n",
       "└─────────────────────────────────┴────────────────────────┴───────────────┘\n",
       "</pre>\n"
      ],
      "text/plain": [
       "┏━━━━━━━━━━━━━━━━━━━━━━━━━━━━━━━━━┳━━━━━━━━━━━━━━━━━━━━━━━━┳━━━━━━━━━━━━━━━┓\n",
       "┃\u001b[1m \u001b[0m\u001b[1mLayer (type)                   \u001b[0m\u001b[1m \u001b[0m┃\u001b[1m \u001b[0m\u001b[1mOutput Shape          \u001b[0m\u001b[1m \u001b[0m┃\u001b[1m \u001b[0m\u001b[1m      Param #\u001b[0m\u001b[1m \u001b[0m┃\n",
       "┡━━━━━━━━━━━━━━━━━━━━━━━━━━━━━━━━━╇━━━━━━━━━━━━━━━━━━━━━━━━╇━━━━━━━━━━━━━━━┩\n",
       "│ embedding (\u001b[38;5;33mEmbedding\u001b[0m)           │ (\u001b[38;5;45mNone\u001b[0m, \u001b[38;5;34m500\u001b[0m, \u001b[38;5;34m128\u001b[0m)       │     \u001b[38;5;34m1,280,000\u001b[0m │\n",
       "├─────────────────────────────────┼────────────────────────┼───────────────┤\n",
       "│ simple_rnn (\u001b[38;5;33mSimpleRNN\u001b[0m)          │ (\u001b[38;5;45mNone\u001b[0m, \u001b[38;5;34m128\u001b[0m)            │        \u001b[38;5;34m32,896\u001b[0m │\n",
       "├─────────────────────────────────┼────────────────────────┼───────────────┤\n",
       "│ dense (\u001b[38;5;33mDense\u001b[0m)                   │ (\u001b[38;5;45mNone\u001b[0m, \u001b[38;5;34m1\u001b[0m)              │           \u001b[38;5;34m129\u001b[0m │\n",
       "└─────────────────────────────────┴────────────────────────┴───────────────┘\n"
      ]
     },
     "metadata": {},
     "output_type": "display_data"
    },
    {
     "data": {
      "text/html": [
       "<pre style=\"white-space:pre;overflow-x:auto;line-height:normal;font-family:Menlo,'DejaVu Sans Mono',consolas,'Courier New',monospace\"><span style=\"font-weight: bold\"> Total params: </span><span style=\"color: #00af00; text-decoration-color: #00af00\">1,313,027</span> (5.01 MB)\n",
       "</pre>\n"
      ],
      "text/plain": [
       "\u001b[1m Total params: \u001b[0m\u001b[38;5;34m1,313,027\u001b[0m (5.01 MB)\n"
      ]
     },
     "metadata": {},
     "output_type": "display_data"
    },
    {
     "data": {
      "text/html": [
       "<pre style=\"white-space:pre;overflow-x:auto;line-height:normal;font-family:Menlo,'DejaVu Sans Mono',consolas,'Courier New',monospace\"><span style=\"font-weight: bold\"> Trainable params: </span><span style=\"color: #00af00; text-decoration-color: #00af00\">1,313,025</span> (5.01 MB)\n",
       "</pre>\n"
      ],
      "text/plain": [
       "\u001b[1m Trainable params: \u001b[0m\u001b[38;5;34m1,313,025\u001b[0m (5.01 MB)\n"
      ]
     },
     "metadata": {},
     "output_type": "display_data"
    },
    {
     "data": {
      "text/html": [
       "<pre style=\"white-space:pre;overflow-x:auto;line-height:normal;font-family:Menlo,'DejaVu Sans Mono',consolas,'Courier New',monospace\"><span style=\"font-weight: bold\"> Non-trainable params: </span><span style=\"color: #00af00; text-decoration-color: #00af00\">0</span> (0.00 B)\n",
       "</pre>\n"
      ],
      "text/plain": [
       "\u001b[1m Non-trainable params: \u001b[0m\u001b[38;5;34m0\u001b[0m (0.00 B)\n"
      ]
     },
     "metadata": {},
     "output_type": "display_data"
    },
    {
     "data": {
      "text/html": [
       "<pre style=\"white-space:pre;overflow-x:auto;line-height:normal;font-family:Menlo,'DejaVu Sans Mono',consolas,'Courier New',monospace\"><span style=\"font-weight: bold\"> Optimizer params: </span><span style=\"color: #00af00; text-decoration-color: #00af00\">2</span> (12.00 B)\n",
       "</pre>\n"
      ],
      "text/plain": [
       "\u001b[1m Optimizer params: \u001b[0m\u001b[38;5;34m2\u001b[0m (12.00 B)\n"
      ]
     },
     "metadata": {},
     "output_type": "display_data"
    }
   ],
   "source": [
    "model= load_model('simple_rnn_imdb.h5')\n",
    "model.summary()"
   ]
  },
  {
   "cell_type": "code",
   "execution_count": 17,
   "metadata": {},
   "outputs": [
    {
     "data": {
      "text/plain": [
       "[array([[-0.03617852, -0.02356609,  0.00712893, ...,  0.03421702,\n",
       "          0.02837268,  0.00352885],\n",
       "        [-0.00661052,  0.01887733,  0.01737362, ..., -0.02319961,\n",
       "         -0.03628798, -0.04161899],\n",
       "        [-0.03876898,  0.01307321,  0.01854187, ..., -0.02251115,\n",
       "          0.00040145,  0.04460201],\n",
       "        ...,\n",
       "        [ 0.02326613,  0.02457747,  0.04655366, ..., -0.02054359,\n",
       "          0.01121558,  0.02070916],\n",
       "        [ 0.01323498, -0.03781145,  0.05882581, ..., -0.03347015,\n",
       "         -0.00994527,  0.02534102],\n",
       "        [ 0.03730586,  0.01973228, -0.03927887, ..., -0.00560153,\n",
       "         -0.04089487, -0.0410043 ]], dtype=float32),\n",
       " array([[-0.14054787,  0.12578471,  0.14142537, ...,  0.05313277,\n",
       "         -0.07167976, -0.07372114],\n",
       "        [ 0.03565144, -0.12629205, -0.01312452, ...,  0.08699569,\n",
       "          0.14294219, -0.03816632],\n",
       "        [ 0.06488976,  0.00730061, -0.04214279, ..., -0.12596436,\n",
       "         -0.15064746,  0.0809674 ],\n",
       "        ...,\n",
       "        [-0.15363827,  0.08233151, -0.10211141, ..., -0.15003729,\n",
       "         -0.05233618,  0.042258  ],\n",
       "        [ 0.01819753, -0.03503444,  0.04252106, ..., -0.1673382 ,\n",
       "          0.05704002,  0.03855926],\n",
       "        [ 0.02576747, -0.05675043, -0.02152115, ..., -0.03820598,\n",
       "         -0.1539865 , -0.10566034]], dtype=float32),\n",
       " array([[-0.02703409, -0.14928295,  0.14396563, ..., -0.14001097,\n",
       "         -0.02405898,  0.1273506 ],\n",
       "        [ 0.00747225,  0.03279243, -0.09342593, ..., -0.20256816,\n",
       "         -0.08638087, -0.18321544],\n",
       "        [ 0.12203985,  0.06577103, -0.13249817, ..., -0.0774252 ,\n",
       "         -0.06503826, -0.15811194],\n",
       "        ...,\n",
       "        [-0.0908576 , -0.062488  , -0.05986721, ..., -0.01766812,\n",
       "          0.01740088, -0.07886003],\n",
       "        [-0.00459707, -0.05599364,  0.14380565, ...,  0.13917312,\n",
       "         -0.07399451, -0.16713274],\n",
       "        [-0.03116031, -0.05891053, -0.00613579, ...,  0.00305938,\n",
       "         -0.03148187,  0.02848738]], dtype=float32),\n",
       " array([-0.00182123,  0.02368938,  0.00374972, -0.00302161, -0.01052828,\n",
       "        -0.02003307, -0.00249896,  0.00973768,  0.00776104,  0.01958745,\n",
       "        -0.0078776 , -0.00075027,  0.01371852,  0.01757852, -0.00463243,\n",
       "         0.01152726,  0.0259259 ,  0.003813  , -0.01062368,  0.02331604,\n",
       "         0.02161769,  0.00092567, -0.01425369,  0.02150624,  0.00980221,\n",
       "        -0.03037388, -0.01684151,  0.0181709 , -0.02356139, -0.0048642 ,\n",
       "         0.01105807, -0.02231122, -0.02141451,  0.00421082,  0.02027045,\n",
       "        -0.01001326, -0.01105641, -0.00333229, -0.01155365,  0.01408834,\n",
       "         0.01545983, -0.00780663, -0.01393418, -0.02309866, -0.02424764,\n",
       "         0.01078775,  0.03376462, -0.01950901, -0.0290227 , -0.00947239,\n",
       "        -0.01235064,  0.00795209, -0.02867529,  0.00444025,  0.00250551,\n",
       "        -0.01086444, -0.0027603 ,  0.00374978, -0.01402759,  0.00169477,\n",
       "        -0.00285372, -0.02401115,  0.02030714,  0.01510993,  0.00012088,\n",
       "         0.01203918,  0.00413114,  0.00833103, -0.00281355,  0.02062053,\n",
       "         0.00078936, -0.01243829,  0.01030458,  0.02945333,  0.00844268,\n",
       "         0.02199175,  0.01268467,  0.0326545 ,  0.00204318, -0.01190466,\n",
       "        -0.00159556, -0.01142761,  0.01833383, -0.01736407,  0.00512346,\n",
       "         0.01903409,  0.01647699,  0.01367943, -0.00323169, -0.02686981,\n",
       "         0.00925373,  0.01290548, -0.00604207,  0.00028007,  0.00118262,\n",
       "        -0.05098375,  0.00081289,  0.00176722, -0.00104506, -0.01267761,\n",
       "        -0.00254811,  0.00198609, -0.02960029,  0.0026173 , -0.00754535,\n",
       "         0.00419255, -0.00306993, -0.01357665, -0.01369975,  0.02492295,\n",
       "         0.03004947, -0.01016152, -0.01140249,  0.01327865,  0.01878307,\n",
       "         0.02452526,  0.01116804, -0.02735567, -0.00608473, -0.00326004,\n",
       "        -0.02486089,  0.00333621,  0.00148333,  0.0195155 , -0.00485143,\n",
       "        -0.01926265,  0.00681198, -0.02064826], dtype=float32),\n",
       " array([[-0.12240825],\n",
       "        [-0.00335325],\n",
       "        [ 0.2010067 ],\n",
       "        [-0.17846741],\n",
       "        [-0.1373231 ],\n",
       "        [ 0.18210956],\n",
       "        [-0.03503095],\n",
       "        [ 0.08478892],\n",
       "        [ 0.1298436 ],\n",
       "        [ 0.16410038],\n",
       "        [ 0.17717917],\n",
       "        [ 0.09664149],\n",
       "        [-0.08968723],\n",
       "        [-0.25276735],\n",
       "        [ 0.1387558 ],\n",
       "        [-0.20626746],\n",
       "        [-0.10792774],\n",
       "        [ 0.12440176],\n",
       "        [ 0.07365037],\n",
       "        [ 0.00665742],\n",
       "        [-0.19612916],\n",
       "        [ 0.18903874],\n",
       "        [-0.00117627],\n",
       "        [ 0.01503911],\n",
       "        [ 0.17683384],\n",
       "        [ 0.14217135],\n",
       "        [-0.00249796],\n",
       "        [-0.15753135],\n",
       "        [-0.11257334],\n",
       "        [ 0.13833776],\n",
       "        [-0.04861868],\n",
       "        [-0.18772691],\n",
       "        [ 0.06184741],\n",
       "        [ 0.05480291],\n",
       "        [-0.15343143],\n",
       "        [ 0.03678824],\n",
       "        [ 0.08575366],\n",
       "        [ 0.09645509],\n",
       "        [ 0.09420583],\n",
       "        [-0.19800937],\n",
       "        [-0.17314611],\n",
       "        [ 0.01481811],\n",
       "        [-0.05605982],\n",
       "        [ 0.06092963],\n",
       "        [-0.00437577],\n",
       "        [-0.1101274 ],\n",
       "        [-0.02601713],\n",
       "        [-0.13858643],\n",
       "        [-0.16729933],\n",
       "        [-0.18621175],\n",
       "        [-0.02561048],\n",
       "        [ 0.10510341],\n",
       "        [-0.04136425],\n",
       "        [ 0.06490763],\n",
       "        [ 0.04850317],\n",
       "        [ 0.13846448],\n",
       "        [-0.07632351],\n",
       "        [ 0.07556443],\n",
       "        [ 0.1139796 ],\n",
       "        [-0.17427239],\n",
       "        [ 0.05022289],\n",
       "        [-0.20593327],\n",
       "        [-0.03123596],\n",
       "        [ 0.00920433],\n",
       "        [ 0.08231982],\n",
       "        [-0.10291301],\n",
       "        [ 0.08934141],\n",
       "        [-0.09740471],\n",
       "        [ 0.07623286],\n",
       "        [ 0.12843472],\n",
       "        [-0.05821719],\n",
       "        [ 0.16902716],\n",
       "        [-0.17604004],\n",
       "        [ 0.06891896],\n",
       "        [ 0.10649911],\n",
       "        [ 0.09883709],\n",
       "        [-0.14723198],\n",
       "        [-0.06217346],\n",
       "        [-0.20255147],\n",
       "        [-0.0185599 ],\n",
       "        [ 0.1330721 ],\n",
       "        [ 0.05587555],\n",
       "        [-0.14707622],\n",
       "        [ 0.04641278],\n",
       "        [ 0.02291301],\n",
       "        [-0.19319257],\n",
       "        [-0.21150094],\n",
       "        [ 0.04589198],\n",
       "        [-0.23782049],\n",
       "        [-0.04939075],\n",
       "        [ 0.0861697 ],\n",
       "        [-0.11194847],\n",
       "        [ 0.06532009],\n",
       "        [-0.12334482],\n",
       "        [ 0.15168613],\n",
       "        [-0.17018482],\n",
       "        [ 0.05587685],\n",
       "        [-0.10349505],\n",
       "        [ 0.00220228],\n",
       "        [ 0.01109941],\n",
       "        [ 0.1529834 ],\n",
       "        [-0.17834249],\n",
       "        [ 0.11232584],\n",
       "        [ 0.0465099 ],\n",
       "        [-0.03931255],\n",
       "        [ 0.09124695],\n",
       "        [-0.09216108],\n",
       "        [-0.00634834],\n",
       "        [-0.04502446],\n",
       "        [-0.10762097],\n",
       "        [-0.05417556],\n",
       "        [ 0.1464094 ],\n",
       "        [-0.06220121],\n",
       "        [-0.20271125],\n",
       "        [-0.05574643],\n",
       "        [-0.05133476],\n",
       "        [ 0.15377925],\n",
       "        [-0.10012889],\n",
       "        [-0.1031443 ],\n",
       "        [ 0.04422355],\n",
       "        [ 0.10899104],\n",
       "        [-0.18604392],\n",
       "        [-0.20671096],\n",
       "        [-0.11429631],\n",
       "        [-0.11944521],\n",
       "        [ 0.16390292],\n",
       "        [-0.00932603],\n",
       "        [-0.14015   ]], dtype=float32),\n",
       " array([-0.00049527], dtype=float32)]"
      ]
     },
     "execution_count": 17,
     "metadata": {},
     "output_type": "execute_result"
    }
   ],
   "source": [
    "model.get_weights()"
   ]
  },
  {
   "cell_type": "code",
   "execution_count": 18,
   "metadata": {},
   "outputs": [],
   "source": [
    "def decode_review(encoded_review):\n",
    "    return ' '.join([reverse_word_ind.get(i-3,'?') for i in encoded_review])\n",
    "\n",
    "def preprocess_text(text):\n",
    "    words=text.lower().split()\n",
    "    \n",
    "    encoded_review =[word_ind.get(word,2)+ 3 for word in words]\n",
    "    padded_review=sequence.pad_sequences([encoded_review],maxlen=500)\n",
    "    return padded_review"
   ]
  },
  {
   "cell_type": "code",
   "execution_count": 19,
   "metadata": {},
   "outputs": [],
   "source": [
    "def predict_sentiment(review):\n",
    "    preprocess_input=preprocess_text(review)\n",
    "    pred=model.predict(preprocess_input)\n",
    "    sentiment = 'Positive' if pred[0][0]>0.5 else 'Negative'\n",
    "    return sentiment,pred[0][0]"
   ]
  },
  {
   "cell_type": "code",
   "execution_count": 20,
   "metadata": {},
   "outputs": [],
   "source": [
    "example_review=\"This movie was bad\""
   ]
  },
  {
   "cell_type": "code",
   "execution_count": 21,
   "metadata": {},
   "outputs": [
    {
     "name": "stdout",
     "output_type": "stream",
     "text": [
      "\u001b[1m1/1\u001b[0m \u001b[32m━━━━━━━━━━━━━━━━━━━━\u001b[0m\u001b[37m\u001b[0m \u001b[1m0s\u001b[0m 217ms/step\n"
     ]
    }
   ],
   "source": [
    "sentiment,score=predict_sentiment(example_review)"
   ]
  },
  {
   "cell_type": "code",
   "execution_count": 22,
   "metadata": {},
   "outputs": [
    {
     "name": "stdout",
     "output_type": "stream",
     "text": [
      "Review: This movie was bad\n",
      "sentiment: Negative\n",
      "Review: 0.21188683807849884\n"
     ]
    }
   ],
   "source": [
    "print(f'Review: {example_review}')\n",
    "print(f'sentiment: {sentiment}')\n",
    "print(f'Review: {score}')\n",
    "\n"
   ]
  },
  {
   "cell_type": "code",
   "execution_count": null,
   "metadata": {},
   "outputs": [],
   "source": []
  },
  {
   "cell_type": "code",
   "execution_count": null,
   "metadata": {},
   "outputs": [],
   "source": []
  },
  {
   "cell_type": "code",
   "execution_count": null,
   "metadata": {},
   "outputs": [],
   "source": []
  }
 ],
 "metadata": {
  "kernelspec": {
   "display_name": "Python 3",
   "language": "python",
   "name": "python3"
  },
  "language_info": {
   "codemirror_mode": {
    "name": "ipython",
    "version": 3
   },
   "file_extension": ".py",
   "mimetype": "text/x-python",
   "name": "python",
   "nbconvert_exporter": "python",
   "pygments_lexer": "ipython3",
   "version": "3.11.8"
  }
 },
 "nbformat": 4,
 "nbformat_minor": 2
}
