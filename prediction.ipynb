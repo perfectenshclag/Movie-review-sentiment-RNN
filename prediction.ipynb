{
 "cells": [
  {
   "cell_type": "code",
   "execution_count": 2,
   "metadata": {},
   "outputs": [],
   "source": [
    "import numpy as np \n",
    "import tensorflow as tf\n",
    "from tensorflow.keras.datasets import imdb\n",
    "from tensorflow.keras.preprocessing import sequence\n",
    "from tensorflow.keras.models import load_model\n",
    "\n"
   ]
  },
  {
   "cell_type": "code",
   "execution_count": 3,
   "metadata": {},
   "outputs": [],
   "source": [
    "word_ind=imdb.get_word_index()\n",
    "reverse_word_ind={value: key for key, value in word_ind.items()}"
   ]
  },
  {
   "cell_type": "code",
   "execution_count": 5,
   "metadata": {},
   "outputs": [
    {
     "name": "stderr",
     "output_type": "stream",
     "text": [
      "WARNING:absl:Compiled the loaded model, but the compiled metrics have yet to be built. `model.compile_metrics` will be empty until you train or evaluate the model.\n"
     ]
    },
    {
     "data": {
      "text/html": [
       "<pre style=\"white-space:pre;overflow-x:auto;line-height:normal;font-family:Menlo,'DejaVu Sans Mono',consolas,'Courier New',monospace\"><span style=\"font-weight: bold\">Model: \"sequential\"</span>\n",
       "</pre>\n"
      ],
      "text/plain": [
       "\u001b[1mModel: \"sequential\"\u001b[0m\n"
      ]
     },
     "metadata": {},
     "output_type": "display_data"
    },
    {
     "data": {
      "text/html": [
       "<pre style=\"white-space:pre;overflow-x:auto;line-height:normal;font-family:Menlo,'DejaVu Sans Mono',consolas,'Courier New',monospace\">┏━━━━━━━━━━━━━━━━━━━━━━━━━━━━━━━━━┳━━━━━━━━━━━━━━━━━━━━━━━━┳━━━━━━━━━━━━━━━┓\n",
       "┃<span style=\"font-weight: bold\"> Layer (type)                    </span>┃<span style=\"font-weight: bold\"> Output Shape           </span>┃<span style=\"font-weight: bold\">       Param # </span>┃\n",
       "┡━━━━━━━━━━━━━━━━━━━━━━━━━━━━━━━━━╇━━━━━━━━━━━━━━━━━━━━━━━━╇━━━━━━━━━━━━━━━┩\n",
       "│ embedding (<span style=\"color: #0087ff; text-decoration-color: #0087ff\">Embedding</span>)           │ (<span style=\"color: #00d7ff; text-decoration-color: #00d7ff\">None</span>, <span style=\"color: #00af00; text-decoration-color: #00af00\">500</span>, <span style=\"color: #00af00; text-decoration-color: #00af00\">128</span>)       │     <span style=\"color: #00af00; text-decoration-color: #00af00\">1,280,000</span> │\n",
       "├─────────────────────────────────┼────────────────────────┼───────────────┤\n",
       "│ simple_rnn (<span style=\"color: #0087ff; text-decoration-color: #0087ff\">SimpleRNN</span>)          │ (<span style=\"color: #00d7ff; text-decoration-color: #00d7ff\">None</span>, <span style=\"color: #00af00; text-decoration-color: #00af00\">128</span>)            │        <span style=\"color: #00af00; text-decoration-color: #00af00\">32,896</span> │\n",
       "├─────────────────────────────────┼────────────────────────┼───────────────┤\n",
       "│ dense (<span style=\"color: #0087ff; text-decoration-color: #0087ff\">Dense</span>)                   │ (<span style=\"color: #00d7ff; text-decoration-color: #00d7ff\">None</span>, <span style=\"color: #00af00; text-decoration-color: #00af00\">1</span>)              │           <span style=\"color: #00af00; text-decoration-color: #00af00\">129</span> │\n",
       "└─────────────────────────────────┴────────────────────────┴───────────────┘\n",
       "</pre>\n"
      ],
      "text/plain": [
       "┏━━━━━━━━━━━━━━━━━━━━━━━━━━━━━━━━━┳━━━━━━━━━━━━━━━━━━━━━━━━┳━━━━━━━━━━━━━━━┓\n",
       "┃\u001b[1m \u001b[0m\u001b[1mLayer (type)                   \u001b[0m\u001b[1m \u001b[0m┃\u001b[1m \u001b[0m\u001b[1mOutput Shape          \u001b[0m\u001b[1m \u001b[0m┃\u001b[1m \u001b[0m\u001b[1m      Param #\u001b[0m\u001b[1m \u001b[0m┃\n",
       "┡━━━━━━━━━━━━━━━━━━━━━━━━━━━━━━━━━╇━━━━━━━━━━━━━━━━━━━━━━━━╇━━━━━━━━━━━━━━━┩\n",
       "│ embedding (\u001b[38;5;33mEmbedding\u001b[0m)           │ (\u001b[38;5;45mNone\u001b[0m, \u001b[38;5;34m500\u001b[0m, \u001b[38;5;34m128\u001b[0m)       │     \u001b[38;5;34m1,280,000\u001b[0m │\n",
       "├─────────────────────────────────┼────────────────────────┼───────────────┤\n",
       "│ simple_rnn (\u001b[38;5;33mSimpleRNN\u001b[0m)          │ (\u001b[38;5;45mNone\u001b[0m, \u001b[38;5;34m128\u001b[0m)            │        \u001b[38;5;34m32,896\u001b[0m │\n",
       "├─────────────────────────────────┼────────────────────────┼───────────────┤\n",
       "│ dense (\u001b[38;5;33mDense\u001b[0m)                   │ (\u001b[38;5;45mNone\u001b[0m, \u001b[38;5;34m1\u001b[0m)              │           \u001b[38;5;34m129\u001b[0m │\n",
       "└─────────────────────────────────┴────────────────────────┴───────────────┘\n"
      ]
     },
     "metadata": {},
     "output_type": "display_data"
    },
    {
     "data": {
      "text/html": [
       "<pre style=\"white-space:pre;overflow-x:auto;line-height:normal;font-family:Menlo,'DejaVu Sans Mono',consolas,'Courier New',monospace\"><span style=\"font-weight: bold\"> Total params: </span><span style=\"color: #00af00; text-decoration-color: #00af00\">1,313,027</span> (5.01 MB)\n",
       "</pre>\n"
      ],
      "text/plain": [
       "\u001b[1m Total params: \u001b[0m\u001b[38;5;34m1,313,027\u001b[0m (5.01 MB)\n"
      ]
     },
     "metadata": {},
     "output_type": "display_data"
    },
    {
     "data": {
      "text/html": [
       "<pre style=\"white-space:pre;overflow-x:auto;line-height:normal;font-family:Menlo,'DejaVu Sans Mono',consolas,'Courier New',monospace\"><span style=\"font-weight: bold\"> Trainable params: </span><span style=\"color: #00af00; text-decoration-color: #00af00\">1,313,025</span> (5.01 MB)\n",
       "</pre>\n"
      ],
      "text/plain": [
       "\u001b[1m Trainable params: \u001b[0m\u001b[38;5;34m1,313,025\u001b[0m (5.01 MB)\n"
      ]
     },
     "metadata": {},
     "output_type": "display_data"
    },
    {
     "data": {
      "text/html": [
       "<pre style=\"white-space:pre;overflow-x:auto;line-height:normal;font-family:Menlo,'DejaVu Sans Mono',consolas,'Courier New',monospace\"><span style=\"font-weight: bold\"> Non-trainable params: </span><span style=\"color: #00af00; text-decoration-color: #00af00\">0</span> (0.00 B)\n",
       "</pre>\n"
      ],
      "text/plain": [
       "\u001b[1m Non-trainable params: \u001b[0m\u001b[38;5;34m0\u001b[0m (0.00 B)\n"
      ]
     },
     "metadata": {},
     "output_type": "display_data"
    },
    {
     "data": {
      "text/html": [
       "<pre style=\"white-space:pre;overflow-x:auto;line-height:normal;font-family:Menlo,'DejaVu Sans Mono',consolas,'Courier New',monospace\"><span style=\"font-weight: bold\"> Optimizer params: </span><span style=\"color: #00af00; text-decoration-color: #00af00\">2</span> (12.00 B)\n",
       "</pre>\n"
      ],
      "text/plain": [
       "\u001b[1m Optimizer params: \u001b[0m\u001b[38;5;34m2\u001b[0m (12.00 B)\n"
      ]
     },
     "metadata": {},
     "output_type": "display_data"
    }
   ],
   "source": [
    "model= load_model('simple_rnn_imdb.h5')\n",
    "model.summary()"
   ]
  },
  {
   "cell_type": "code",
   "execution_count": 6,
   "metadata": {},
   "outputs": [
    {
     "data": {
      "text/plain": [
       "[array([[ 5.22588730e-01,  4.59645331e-01,  4.69079375e-01, ...,\n",
       "         -6.98856890e-01,  5.97749591e-01, -4.92818356e-01],\n",
       "        [ 1.17961586e-01, -1.10856995e-01, -3.51206437e-02, ...,\n",
       "         -1.32131159e-01,  6.33259937e-02,  3.95791233e-02],\n",
       "        [ 1.43466324e-01,  4.60936986e-02, -2.00031418e-02, ...,\n",
       "         -1.24656409e-01, -9.14849713e-02, -1.20052006e-02],\n",
       "        ...,\n",
       "        [ 3.72913256e-02, -1.74419228e-02, -8.63282979e-02, ...,\n",
       "         -6.98679984e-02, -6.44403398e-02,  3.79145555e-02],\n",
       "        [ 2.70718783e-02,  3.11983880e-02, -1.05040162e-04, ...,\n",
       "          2.67153867e-02,  6.80892617e-02, -3.55646312e-02],\n",
       "        [ 1.05192691e-01, -9.54142213e-02, -4.32924815e-02, ...,\n",
       "         -1.41898291e-02,  7.07962364e-02,  9.37946662e-02]], dtype=float32),\n",
       " array([[-1.58557981e-01, -8.27322975e-02, -1.37150005e-01, ...,\n",
       "          1.16176426e-01, -3.82127315e-02,  3.33827771e-02],\n",
       "        [ 9.55580473e-02,  2.14978907e-04,  3.50044854e-02, ...,\n",
       "         -3.41089964e-02, -1.86359193e-02, -1.26961246e-01],\n",
       "        [ 1.52408198e-01,  2.25131717e-02, -8.99562612e-02, ...,\n",
       "          1.27808437e-01, -1.01843573e-01, -1.15488581e-01],\n",
       "        ...,\n",
       "        [ 2.23837554e-01, -1.38663337e-01,  4.98029552e-02, ...,\n",
       "          4.08036299e-02, -3.32710496e-03, -1.84354573e-01],\n",
       "        [-9.80536416e-02,  2.40676887e-02, -7.00581446e-02, ...,\n",
       "         -4.51437943e-02,  7.31144622e-02,  6.62097186e-02],\n",
       "        [-1.33576632e-01, -1.22252226e-01,  1.17487520e-01, ...,\n",
       "         -1.69115514e-02,  2.08315458e-02,  4.83304001e-02]], dtype=float32),\n",
       " array([[ 4.7696721e-02, -4.9603175e-02, -7.4789375e-02, ...,\n",
       "          3.7520528e-02, -4.0042557e-02, -8.6565586e-03],\n",
       "        [-1.0657989e-02,  1.2190068e-02, -6.0088127e-03, ...,\n",
       "         -2.2062474e-01,  6.2980197e-02,  1.1513932e-02],\n",
       "        [-8.9548029e-02,  1.5971314e-02, -5.0623991e-02, ...,\n",
       "          8.5415795e-02, -5.9193657e-03,  5.2649215e-02],\n",
       "        ...,\n",
       "        [-2.7547615e-02, -1.0025836e-01,  1.0798397e-01, ...,\n",
       "          7.8261374e-03,  7.6133907e-02,  1.2663062e-01],\n",
       "        [-6.7669190e-02,  1.5254496e-01, -2.8438846e-02, ...,\n",
       "          5.3998124e-02,  7.0824802e-02,  1.9569477e-01],\n",
       "        [-4.9403463e-02,  2.9332576e-05,  2.0139753e-03, ...,\n",
       "         -1.2731180e-01,  9.4307074e-03,  1.8030481e-01]], dtype=float32),\n",
       " array([-1.7409462e-02, -3.5738910e-03, -4.9871214e-02, -1.5895231e-02,\n",
       "        -1.6936626e-02, -1.5206546e-02, -5.2606318e-02, -4.6408516e-03,\n",
       "        -1.5288286e-05, -1.6090252e-02, -4.4902585e-02, -2.7965348e-02,\n",
       "        -5.5573348e-02,  3.3683563e-03, -1.8624175e-02,  2.2813583e-02,\n",
       "         4.2981666e-02, -3.6902174e-02, -7.3608264e-02,  1.4961323e-03,\n",
       "         5.6042887e-02, -2.5716309e-02, -4.5967937e-02,  2.4237497e-02,\n",
       "        -3.5235588e-02,  1.8778730e-02, -5.5699319e-02,  1.4781205e-02,\n",
       "         2.0141860e-02, -6.4617299e-02, -6.5452181e-02, -2.3418600e-02,\n",
       "        -6.5764361e-03, -8.2012772e-04,  9.9893631e-03, -5.5055330e-03,\n",
       "        -2.7863614e-02, -6.6045232e-02, -1.4054391e-02,  9.4891582e-03,\n",
       "        -4.5400333e-02,  2.2227263e-02,  5.7982868e-03,  6.1212447e-02,\n",
       "        -2.6067358e-02, -1.9089263e-02, -4.0507421e-02,  2.9951783e-02,\n",
       "         6.4861327e-02, -3.8660049e-02, -9.9602770e-03, -2.6001577e-04,\n",
       "        -2.4359738e-02, -4.7736201e-02, -2.5281401e-02, -1.7421169e-02,\n",
       "        -8.4755622e-02, -2.6596470e-02,  2.1760078e-02,  2.5220761e-02,\n",
       "        -2.0453395e-02,  1.8127790e-02, -6.7645535e-02,  4.2019831e-03,\n",
       "        -2.1301260e-02,  4.3243099e-02,  7.2415799e-02,  6.9224671e-02,\n",
       "        -4.5781076e-02,  1.2778569e-02,  2.0563876e-02, -3.0496806e-02,\n",
       "         4.3837611e-02,  1.9057825e-02, -4.2202793e-02, -2.3704121e-02,\n",
       "        -3.2144142e-03,  4.6028312e-02,  7.7251099e-02, -7.7434517e-03,\n",
       "        -2.2517938e-02, -2.7943483e-02, -5.1890466e-02,  2.8979631e-02,\n",
       "        -2.7368974e-03, -7.8953628e-04, -1.7923476e-02, -2.1765769e-02,\n",
       "         3.3757173e-02, -9.7711366e-03, -1.2276668e-02, -2.5254842e-02,\n",
       "        -1.1133507e-02,  5.5213296e-03, -2.1565812e-02, -1.7940640e-02,\n",
       "         3.4805149e-02,  1.8159010e-03,  5.9917495e-02, -1.9631913e-02,\n",
       "         5.5259939e-02, -1.8952727e-02,  6.2744111e-02, -2.8185725e-02,\n",
       "        -2.2854278e-02,  3.8837750e-02, -5.3416617e-02, -1.2224499e-02,\n",
       "         1.2621979e-03, -4.4711031e-02, -1.3097984e-02, -6.3587027e-04,\n",
       "         3.0520491e-02,  4.8301633e-02, -3.8187381e-02, -1.1944968e-02,\n",
       "        -1.4683597e-02,  9.8827686e-03, -8.5717835e-04,  9.7386522e-04,\n",
       "        -4.4793235e-03, -3.3460572e-02, -4.5749601e-02, -5.6739084e-02,\n",
       "         6.9004238e-02, -1.6577985e-02,  7.6376610e-02,  5.9374254e-02],\n",
       "       dtype=float32),\n",
       " array([[ 5.47050964e-04],\n",
       "        [ 4.52405401e-02],\n",
       "        [-1.47799179e-02],\n",
       "        [-3.46913695e-01],\n",
       "        [ 7.89813176e-02],\n",
       "        [ 6.21259920e-02],\n",
       "        [ 5.24277333e-03],\n",
       "        [-2.00716570e-01],\n",
       "        [-2.14030311e-01],\n",
       "        [ 1.83686107e-01],\n",
       "        [ 1.79893121e-01],\n",
       "        [ 1.88968465e-01],\n",
       "        [ 2.22697780e-02],\n",
       "        [-2.76034981e-01],\n",
       "        [-1.34744152e-01],\n",
       "        [-8.02380592e-02],\n",
       "        [-1.89396054e-01],\n",
       "        [ 6.98759481e-02],\n",
       "        [-1.63725153e-01],\n",
       "        [ 3.29875648e-02],\n",
       "        [-2.56132245e-01],\n",
       "        [ 8.49624872e-02],\n",
       "        [ 1.64729998e-01],\n",
       "        [-1.04018688e-01],\n",
       "        [-2.12304711e-01],\n",
       "        [ 1.29258886e-01],\n",
       "        [-1.08928559e-03],\n",
       "        [ 1.01759329e-01],\n",
       "        [ 7.32946694e-02],\n",
       "        [ 1.60196707e-01],\n",
       "        [-2.87314594e-01],\n",
       "        [ 2.28912175e-01],\n",
       "        [ 1.03181504e-01],\n",
       "        [ 6.28893524e-02],\n",
       "        [-3.38691622e-02],\n",
       "        [-5.11030972e-01],\n",
       "        [-8.45388249e-02],\n",
       "        [ 3.93968314e-01],\n",
       "        [-1.29635245e-01],\n",
       "        [-8.11784789e-02],\n",
       "        [ 1.44694850e-01],\n",
       "        [-3.56653370e-02],\n",
       "        [-6.34185746e-02],\n",
       "        [ 1.78395733e-02],\n",
       "        [ 7.61613995e-02],\n",
       "        [-2.36568511e-01],\n",
       "        [-1.75721720e-02],\n",
       "        [ 2.07752232e-02],\n",
       "        [ 2.37588137e-01],\n",
       "        [-1.16914943e-01],\n",
       "        [-1.14431959e-02],\n",
       "        [-1.82306737e-01],\n",
       "        [ 3.41868348e-04],\n",
       "        [ 8.91370401e-02],\n",
       "        [-2.56241530e-01],\n",
       "        [ 1.08700044e-01],\n",
       "        [-3.31576079e-01],\n",
       "        [-1.57198101e-01],\n",
       "        [ 3.14164877e-01],\n",
       "        [ 6.43989667e-02],\n",
       "        [ 1.47848517e-01],\n",
       "        [-2.21064329e-01],\n",
       "        [ 1.47253528e-01],\n",
       "        [-7.86210150e-02],\n",
       "        [-3.75980347e-01],\n",
       "        [-2.13587750e-02],\n",
       "        [ 7.57741928e-02],\n",
       "        [-2.00893924e-01],\n",
       "        [-2.01274142e-01],\n",
       "        [-5.58918826e-02],\n",
       "        [ 1.11382015e-01],\n",
       "        [ 1.57508567e-01],\n",
       "        [-1.03256106e-01],\n",
       "        [ 1.52879730e-01],\n",
       "        [ 1.38541549e-01],\n",
       "        [ 1.64327800e-01],\n",
       "        [ 1.16408549e-01],\n",
       "        [-8.10949683e-01],\n",
       "        [-9.09848677e-05],\n",
       "        [ 2.69376091e-03],\n",
       "        [-6.60741776e-02],\n",
       "        [-2.97703326e-01],\n",
       "        [ 2.42751494e-01],\n",
       "        [ 1.59254223e-01],\n",
       "        [-4.09954265e-02],\n",
       "        [ 1.72974199e-01],\n",
       "        [-9.92470086e-02],\n",
       "        [ 1.48691103e-01],\n",
       "        [-1.42776906e-01],\n",
       "        [-4.50907201e-02],\n",
       "        [ 1.82547569e-01],\n",
       "        [-2.31976599e-01],\n",
       "        [ 4.76972386e-02],\n",
       "        [ 6.58648014e-02],\n",
       "        [ 1.54778466e-01],\n",
       "        [ 2.58644074e-02],\n",
       "        [-1.39538348e-01],\n",
       "        [ 1.84336871e-01],\n",
       "        [-1.28988102e-01],\n",
       "        [ 7.61174187e-02],\n",
       "        [ 7.97869638e-02],\n",
       "        [-1.94110334e-01],\n",
       "        [-3.73923630e-02],\n",
       "        [-1.45465331e-02],\n",
       "        [ 3.78930494e-02],\n",
       "        [-1.16569558e-02],\n",
       "        [ 1.64729282e-01],\n",
       "        [ 1.89362645e-01],\n",
       "        [ 9.87648442e-02],\n",
       "        [-2.42167100e-01],\n",
       "        [-2.58040696e-01],\n",
       "        [ 1.89597368e-01],\n",
       "        [ 1.79060618e-03],\n",
       "        [ 8.10065344e-02],\n",
       "        [-4.07987051e-02],\n",
       "        [-2.16121212e-01],\n",
       "        [ 4.81716618e-02],\n",
       "        [-8.96966159e-01],\n",
       "        [ 1.32445037e-01],\n",
       "        [-7.50610698e-03],\n",
       "        [ 2.03644158e-03],\n",
       "        [-7.03078182e-03],\n",
       "        [ 1.12805299e-01],\n",
       "        [-1.25006914e-01],\n",
       "        [ 1.27067477e-01],\n",
       "        [-1.60664260e-01],\n",
       "        [ 1.97273150e-01],\n",
       "        [-1.48290113e-01]], dtype=float32),\n",
       " array([-0.4951908], dtype=float32)]"
      ]
     },
     "execution_count": 6,
     "metadata": {},
     "output_type": "execute_result"
    }
   ],
   "source": [
    "model.get_weights()"
   ]
  },
  {
   "cell_type": "code",
   "execution_count": 8,
   "metadata": {},
   "outputs": [],
   "source": [
    "def decode_review(encoded_review):\n",
    "    return ' '.join([reverse_word_ind.get(i-3,'?') for i in encoded_review])\n",
    "\n",
    "def preprocess_text(text):\n",
    "    words=text.lower().split()\n",
    "    \n",
    "    encoded_review =[word_ind.get(word,2)+ 3 for word in words]\n",
    "    padded_review=sequence.pad_sequences([encoded_review],maxlen=500)\n",
    "    return padded_review"
   ]
  },
  {
   "cell_type": "code",
   "execution_count": 10,
   "metadata": {},
   "outputs": [],
   "source": [
    "def predict_sentiment(review):\n",
    "    preprocess_input=preprocess_text(review)\n",
    "    pred=model.predict(preprocess_input)\n",
    "    sentiment = 'Positive' if pred[0][0]>0.5 else 'Negative'\n",
    "    return sentiment,pred[0][0]"
   ]
  },
  {
   "cell_type": "code",
   "execution_count": 11,
   "metadata": {},
   "outputs": [],
   "source": [
    "example_review=\"This movie was bad\""
   ]
  },
  {
   "cell_type": "code",
   "execution_count": 12,
   "metadata": {},
   "outputs": [
    {
     "name": "stdout",
     "output_type": "stream",
     "text": [
      "\u001b[1m1/1\u001b[0m \u001b[32m━━━━━━━━━━━━━━━━━━━━\u001b[0m\u001b[37m\u001b[0m \u001b[1m0s\u001b[0m 302ms/step\n"
     ]
    }
   ],
   "source": [
    "sentiment,score=predict_sentiment(example_review)"
   ]
  },
  {
   "cell_type": "code",
   "execution_count": 13,
   "metadata": {},
   "outputs": [
    {
     "name": "stdout",
     "output_type": "stream",
     "text": [
      "Review: This movie was bad\n",
      "sentiment: Negative\n",
      "Review: 3.132247366011143e-05\n"
     ]
    }
   ],
   "source": [
    "print(f'Review: {example_review}')\n",
    "print(f'sentiment: {sentiment}')\n",
    "print(f'Review: {score}')\n",
    "\n"
   ]
  },
  {
   "cell_type": "code",
   "execution_count": null,
   "metadata": {},
   "outputs": [],
   "source": []
  },
  {
   "cell_type": "code",
   "execution_count": null,
   "metadata": {},
   "outputs": [],
   "source": []
  },
  {
   "cell_type": "code",
   "execution_count": null,
   "metadata": {},
   "outputs": [],
   "source": []
  }
 ],
 "metadata": {
  "kernelspec": {
   "display_name": "Python 3",
   "language": "python",
   "name": "python3"
  },
  "language_info": {
   "codemirror_mode": {
    "name": "ipython",
    "version": 3
   },
   "file_extension": ".py",
   "mimetype": "text/x-python",
   "name": "python",
   "nbconvert_exporter": "python",
   "pygments_lexer": "ipython3",
   "version": "3.11.8"
  }
 },
 "nbformat": 4,
 "nbformat_minor": 2
}
